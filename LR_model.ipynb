{
 "cells": [
  {
   "cell_type": "code",
   "execution_count": 1,
   "metadata": {},
   "outputs": [
    {
     "name": "stdout",
     "output_type": "stream",
     "text": [
      "                                     Mean Squared Error  R-squared\n",
      "Overall Homeless                           3.325341e+06   0.914381\n",
      "Overall Homeless Individuals               2.795138e+06   0.845110\n",
      "Overall Homeless People in Families        6.117014e+04   0.989996\n",
      "Unsheltered Homeless                       3.430697e+06   0.673056\n",
      "Sheltered Total Homeless                   5.330115e+04   0.997244\n"
     ]
    }
   ],
   "source": [
    "import pandas as pd\n",
    "from sklearn.model_selection import train_test_split\n",
    "from sklearn.linear_model import LinearRegression\n",
    "from sklearn.metrics import mean_squared_error, r2_score\n",
    "\n",
    "# Load the dataset\n",
    "file_path = \"/Users/xushiheng/Downloads/Final.csv\"\n",
    "df = pd.read_csv(file_path)\n",
    "\n",
    "# Filter data for the year range 2010-2023\n",
    "df = df[(df['Year'] >= 2010) & (df['Year'] <= 2023)]\n",
    "\n",
    "# Drop unnecessary columns\n",
    "df = df.drop(columns=['CoC_Number', 'State Initials'])\n",
    "\n",
    "# Drop rows with missing values\n",
    "df = df.dropna()\n",
    "\n",
    "# Define target variables and predictors\n",
    "target_variables = [\n",
    "    'Overall Homeless',\n",
    "    'Overall Homeless Individuals',\n",
    "    'Overall Homeless People in Families',\n",
    "    'Unsheltered Homeless',\n",
    "    'Sheltered Total Homeless'\n",
    "]\n",
    "\n",
    "predictors = df.drop(columns=target_variables + ['Year'])  # Exclude target variables and Year\n",
    "X = predictors.values  # Predictor matrix\n",
    "\n",
    "# Initialize a dictionary to store model performance metrics\n",
    "results = {}\n",
    "\n",
    "# Perform linear regression for each target variable\n",
    "for target in target_variables:\n",
    "    y = df[target].values  # Target variable\n",
    "    \n",
    "    # Split the data into training and testing sets\n",
    "    X_train, X_test, y_train, y_test = train_test_split(X, y, test_size=0.2, random_state=42)\n",
    "    \n",
    "    # Initialize and train the linear regression model\n",
    "    model = LinearRegression()\n",
    "    model.fit(X_train, y_train)\n",
    "    \n",
    "    # Make predictions\n",
    "    y_pred = model.predict(X_test)\n",
    "    \n",
    "    # Calculate performance metrics\n",
    "    mse = mean_squared_error(y_test, y_pred)\n",
    "    r2 = r2_score(y_test, y_pred)\n",
    "    \n",
    "    # Store results\n",
    "    results[target] = {\n",
    "        'Mean Squared Error': mse,\n",
    "        'R-squared': r2\n",
    "    }\n",
    "\n",
    "# Convert results to DataFrame\n",
    "results_df = pd.DataFrame(results).T\n",
    "\n",
    "# Display the results\n",
    "print(results_df)"
   ]
  }
 ],
 "metadata": {
  "kernelspec": {
   "display_name": "base",
   "language": "python",
   "name": "python3"
  },
  "language_info": {
   "codemirror_mode": {
    "name": "ipython",
    "version": 3
   },
   "file_extension": ".py",
   "mimetype": "text/x-python",
   "name": "python",
   "nbconvert_exporter": "python",
   "pygments_lexer": "ipython3",
   "version": "3.12.2"
  }
 },
 "nbformat": 4,
 "nbformat_minor": 2
}
